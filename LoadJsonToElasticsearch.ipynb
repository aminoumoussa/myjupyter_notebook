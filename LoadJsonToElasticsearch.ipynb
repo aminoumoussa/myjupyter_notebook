{
 "cells": [
  {
   "cell_type": "code",
   "execution_count": 15,
   "metadata": {},
   "outputs": [
    {
     "name": "stdout",
     "output_type": "stream",
     "text": [
      "b'{\\n  \"name\" : \"Uniteds-MacBook-Pro.local\",\\n  \"cluster_name\" : \"elasticsearch\",\\n  \"cluster_uuid\" : \"kiVOAzR4SgSfWbKD7vG9qA\",\\n  \"version\" : {\\n    \"number\" : \"7.3.2\",\\n    \"build_flavor\" : \"default\",\\n    \"build_type\" : \"tar\",\\n    \"build_hash\" : \"1c1faf1\",\\n    \"build_date\" : \"2019-09-06T14:40:30.409026Z\",\\n    \"build_snapshot\" : false,\\n    \"lucene_version\" : \"8.1.0\",\\n    \"minimum_wire_compatibility_version\" : \"6.8.0\",\\n    \"minimum_index_compatibility_version\" : \"6.0.0-beta1\"\\n  },\\n  \"tagline\" : \"You Know, for Search\"\\n}\\n'\n"
     ]
    }
   ],
   "source": [
    "import requests, json, os\n",
    "from elasticsearch import Elasticsearch\n",
    "\n",
    "directory = '/Users/aminou/Desktop'\n",
    "os.chdir(directory)\n",
    "res = requests.get('http://localhost:9200')\n",
    "print (res.content)\n",
    "es = Elasticsearch([{'host': 'localhost', 'port': '9200'}])\n",
    "\n",
    "\n",
    "with open('test.json') as jsonfile:\n",
    "    docket_content = jsonfile.read()\n",
    "    es.index(index='internet_ghana', ignore=400, doc_type='docket', \n",
    "        id=1, body=json.loads(docket_content))\n",
    "    \n"
   ]
  },
  {
   "cell_type": "code",
   "execution_count": 17,
   "metadata": {},
   "outputs": [
    {
     "name": "stdout",
     "output_type": "stream",
     "text": [
      "{'_index': 'internet_ghana', '_type': 'docket', '_id': '1', '_version': 1, '_seq_no': 0, '_primary_term': 1, 'found': True, '_source': {'cname': 'KONTA SEO INTERNET MARKETING SERVICE', 'caddress': 'NMAI DJORN, NEXT TO AYENSU RIVER ESTATES, UNIVERSITY FARM ROAD - ACCRA', 'cemail': 'admin@kontaseo.com', 'cwebsite': 'www.kontaseo.com', 'cnumber': '(+233) 546 27 07 01', 'cfax': ''}}\n"
     ]
    }
   ],
   "source": [
    "res=es.get(index='internet_ghana',doc_type='docket',id=1)\n",
    "print(res)"
   ]
  },
  {
   "cell_type": "code",
   "execution_count": null,
   "metadata": {},
   "outputs": [],
   "source": []
  }
 ],
 "metadata": {
  "kernelspec": {
   "display_name": "Python 3",
   "language": "python",
   "name": "python3"
  },
  "language_info": {
   "codemirror_mode": {
    "name": "ipython",
    "version": 3
   },
   "file_extension": ".py",
   "mimetype": "text/x-python",
   "name": "python",
   "nbconvert_exporter": "python",
   "pygments_lexer": "ipython3",
   "version": "3.7.3"
  }
 },
 "nbformat": 4,
 "nbformat_minor": 2
}
