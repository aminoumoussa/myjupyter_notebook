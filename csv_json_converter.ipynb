{
 "cells": [
  {
   "cell_type": "code",
   "execution_count": 25,
   "metadata": {},
   "outputs": [],
   "source": [
    "import os,csv,json\n",
    "\n",
    "os.chdir(\"/Users/aminou/Desktop\")\n",
    "data = []\n",
    "with open('internet_ghana.csv') as csvfile:\n",
    "    csvReader = csv.DictReader(csvfile)\n",
    "    for row in csvReader:\n",
    "        dic = {}\n",
    "        for key,value in zip(row.keys(),row.values()):\n",
    "            dic[key]=value\n",
    "        data.append(dic)\n",
    "with open('internet_ghana.json', 'w') as jsonfile:\n",
    "    jsonfile.write(json.dumps(data, indent=4))\n",
    "        "
   ]
  },
  {
   "cell_type": "code",
   "execution_count": 2,
   "metadata": {},
   "outputs": [
    {
     "data": {
      "text/plain": [
       "'/Users/aminou/Documents'"
      ]
     },
     "execution_count": 2,
     "metadata": {},
     "output_type": "execute_result"
    }
   ],
   "source": []
  },
  {
   "cell_type": "code",
   "execution_count": null,
   "metadata": {},
   "outputs": [],
   "source": []
  }
 ],
 "metadata": {
  "kernelspec": {
   "display_name": "Python 3",
   "language": "python",
   "name": "python3"
  },
  "language_info": {
   "codemirror_mode": {
    "name": "ipython",
    "version": 3
   },
   "file_extension": ".py",
   "mimetype": "text/x-python",
   "name": "python",
   "nbconvert_exporter": "python",
   "pygments_lexer": "ipython3",
   "version": "3.7.3"
  }
 },
 "nbformat": 4,
 "nbformat_minor": 2
}
